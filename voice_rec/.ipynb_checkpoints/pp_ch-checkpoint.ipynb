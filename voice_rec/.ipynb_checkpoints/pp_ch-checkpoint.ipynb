{
 "cells": [
  {
   "cell_type": "code",
   "execution_count": 88,
   "metadata": {},
   "outputs": [],
   "source": [
    "# lexue dataset preprocessing"
   ]
  },
  {
   "cell_type": "code",
   "execution_count": 89,
   "metadata": {},
   "outputs": [],
   "source": [
    "# define path\n",
    "RAW_DATA_PATH = './source/data/ModifiedOutput.txt'\n",
    "final_path = './output/ch/ch.txt'"
   ]
  },
  {
   "cell_type": "code",
   "execution_count": 90,
   "metadata": {},
   "outputs": [],
   "source": [
    "# imoort lib\n",
    "import os\n",
    "import numpy as np\n",
    "import random\n",
    "import re"
   ]
  },
  {
   "cell_type": "code",
   "execution_count": 91,
   "metadata": {},
   "outputs": [],
   "source": [
    "# read lexue data\n",
    "def txtRead(path):\n",
    "    with open(path, 'r') as f:\n",
    "        return f.read().splitlines()\n",
    "all_raw_data_list = txtRead(RAW_DATA_PATH)"
   ]
  },
  {
   "cell_type": "code",
   "execution_count": 92,
   "metadata": {},
   "outputs": [],
   "source": [
    "# output of raw data\n",
    "with open(original_path, 'w') as file:\n",
    "    for i in all_raw_data_list:\n",
    "        file.write( i+ '\\n')"
   ]
  },
  {
   "cell_type": "code",
   "execution_count": 93,
   "metadata": {},
   "outputs": [],
   "source": [
    "# remove blank lines(space)\n",
    "modified_data_list = [i for i in all_raw_data_list if len(i) > 0 and i != ' ']"
   ]
  },
  {
   "cell_type": "code",
   "execution_count": 94,
   "metadata": {},
   "outputs": [],
   "source": [
    "# replace all the non chinese letter to $ sign\n",
    "en_punc_list = [':', ';', '\"', \"'\", '?', '!']\n",
    "ch_punc_list = [ '：', '；', '“', '”', '‘', '’', '？', '！', '《', '》', '，', '。']\n",
    "    \n",
    "def check_if_chinese(c):\n",
    "    # chinese letter\n",
    "    if (c >= u'\\u4e00') and (c <= u'\\u9fff'):\n",
    "        return c\n",
    "    if c in ch_punc_list:\n",
    "        return c\n",
    "    \n",
    "    \n",
    "def add_dollar_sign(content):\n",
    "    ret_str_list = []\n",
    "    i = 0\n",
    "    while (i < len(content)):\n",
    "        if not check_if_chinese(content[i]):\n",
    "            ret_str_list.append('$')\n",
    "            i += 1\n",
    "            while (i < len(content) and not check_if_chinese(content[i])):\n",
    "                i += 1\n",
    "            ret_str_list.append('$')\n",
    "        else:\n",
    "            ret_str_list.append(content[i])\n",
    "            i += 1\n",
    "    ret_str = ''.join(ret_str_list)\n",
    "    return ret_str"
   ]
  },
  {
   "cell_type": "code",
   "execution_count": 95,
   "metadata": {},
   "outputs": [],
   "source": [
    "# change all commas separate lines to chinese comma\n",
    "def chnage_chinese_comma(content):\n",
    "    for index in range(len(content)):\n",
    "        if re.findall('[0-9]+'+','+'[0-9]+',content[index]):\n",
    "            content[index] = re.sub('[0-9A-Za-z]+'+','+'[0-9A-Za-z]+', '$', content[index])\n",
    "    for index in range(len(content)):\n",
    "        content[index]  = content[index] .replace(',','，')\n",
    "    return content\n",
    "\n",
    "split_data_list = chnage_chinese_comma(modified_data_list)"
   ]
  },
  {
   "cell_type": "code",
   "execution_count": 96,
   "metadata": {},
   "outputs": [],
   "source": [
    "# remove all the lines with only $ left\n",
    "final_data_list = []\n",
    "for index in range(len(split_data_list)):\n",
    "    final_data_list.append(add_dollar_sign(split_data_list[index]))\n",
    "    final_data_list[index] = final_data_list[index].replace('$$','$')"
   ]
  },
  {
   "cell_type": "code",
   "execution_count": 97,
   "metadata": {},
   "outputs": [],
   "source": [
    "# split by $ sign, and add up $ sign in corresponding position\n",
    "def split_punc(content,punc):\n",
    "    out = []\n",
    "    for line in content:\n",
    "        if punc in line :\n",
    "            line = line.split(punc)\n",
    "            split_line = []\n",
    "            for index in range(len(line)):\n",
    "                if index == 0:\n",
    "                    if len(line[0]) == 0:\n",
    "                        pass\n",
    "                    else:\n",
    "                        split_line.append(line[index] +punc)\n",
    "                elif index == len(line)-1:\n",
    "                    if len(line[index]) == 0:\n",
    "                        pass\n",
    "                    else:\n",
    "                        split_line.append(punc+line[index])\n",
    "                else:\n",
    "                    split_line.append(punc+line[index] + punc)\n",
    "            for item in split_line:\n",
    "                if item != ' ':\n",
    "                    out.append(item)\n",
    "        else:\n",
    "            out.append(line)\n",
    "    return out\n",
    "\n",
    "\n",
    "split_punc_list = ['$', '，', '。', '：', '；', '！', '？']    \n",
    "for p in split_punc_list:\n",
    "    final_data_list = split_punc(final_data_list, p)"
   ]
  },
  {
   "cell_type": "code",
   "execution_count": 98,
   "metadata": {},
   "outputs": [],
   "source": [
    "# remove lines with less than 2 chinese letter\n",
    "def chinese_count(line):\n",
    "    count = 0\n",
    "    for c in line:\n",
    "        if (c >= u'\\u4e00') and (c <= u'\\u9fff'):\n",
    "            count = count +1\n",
    "    return count\n",
    "\n",
    "\n",
    "split_final_data_list = [seq for seq in final_data_list if chinese_count(seq) > 1]"
   ]
  },
  {
   "cell_type": "code",
   "execution_count": 99,
   "metadata": {},
   "outputs": [],
   "source": [
    "# output of final data\n",
    "with open(final_path, 'w') as file:\n",
    "    for i in split_final_data_list:\n",
    "        file.write( i+ '\\n')"
   ]
  },
  {
   "cell_type": "code",
   "execution_count": 100,
   "metadata": {},
   "outputs": [],
   "source": [
    "# change all chinese letter to dollar sign '$'\n",
    "def english_dollar_sign(content):\n",
    "    ret_str_list = []\n",
    "    i = 0\n",
    "    while (i < len(content)):\n",
    "        if check_if_chinese(content[i]):\n",
    "            ret_str_list.append('$')\n",
    "            i += 1\n",
    "            while (i < len(content) and check_if_chinese(content[i])):\n",
    "                i += 1\n",
    "        else:\n",
    "            ret_str_list.append(content[i])\n",
    "            i += 1\n",
    "    ret_str = ''.join(ret_str_list)\n",
    "    return ret_str"
   ]
  },
  {
   "cell_type": "code",
   "execution_count": 101,
   "metadata": {},
   "outputs": [],
   "source": [
    "# change all chinese letter to dollar sign '$' , and output to a list \n",
    "english_data_list = []\n",
    "for index in range(len(split_data_list)):\n",
    "    english_data_list.append(english_dollar_sign(split_data_list[index]))\n",
    "    english_data_list[index] = english_data_list[index].replace('$$','$')"
   ]
  },
  {
   "cell_type": "code",
   "execution_count": 102,
   "metadata": {},
   "outputs": [],
   "source": [
    "# output of chinese remove data\n",
    "with open(english_path, 'w') as file:\n",
    "    for i in english_data_list:\n",
    "        file.write( i+ '\\n')"
   ]
  },
  {
   "cell_type": "code",
   "execution_count": null,
   "metadata": {},
   "outputs": [],
   "source": []
  },
  {
   "cell_type": "code",
   "execution_count": null,
   "metadata": {},
   "outputs": [],
   "source": []
  }
 ],
 "metadata": {
  "kernelspec": {
   "display_name": "Python 3",
   "language": "python",
   "name": "python3"
  },
  "language_info": {
   "codemirror_mode": {
    "name": "ipython",
    "version": 3
   },
   "file_extension": ".py",
   "mimetype": "text/x-python",
   "name": "python",
   "nbconvert_exporter": "python",
   "pygments_lexer": "ipython3",
   "version": "3.6.8"
  }
 },
 "nbformat": 4,
 "nbformat_minor": 2
}
